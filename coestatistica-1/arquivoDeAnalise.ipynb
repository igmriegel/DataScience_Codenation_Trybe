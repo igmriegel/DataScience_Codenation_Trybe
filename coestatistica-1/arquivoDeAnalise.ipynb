{
 "cells": [
  {
   "cell_type": "code",
   "execution_count": 47,
   "metadata": {},
   "outputs": [],
   "source": [
    "import pandas as pd\n",
    "import numpy as np\n",
    "from scipy import stats\n"
   ]
  },
  {
   "cell_type": "code",
   "execution_count": 48,
   "metadata": {},
   "outputs": [],
   "source": [
    "credit_scores = pd.read_csv(\"desafio1.csv\")\n"
   ]
  },
  {
   "cell_type": "markdown",
   "metadata": {},
   "source": [
    "# Resultado esperado\n",
    "\n",
    "Agrupar os dados dos estados e gerar as seguintes estatisticas:\n",
    "\n",
    "{\"moda\": 0.0, \"mediana\": 0.0, \"media\": 0.0, \"desvio_padrao\": 0.0}"
   ]
  },
  {
   "cell_type": "code",
   "execution_count": 68,
   "metadata": {},
   "outputs": [
    {
     "data": {
      "text/html": [
       "<div>\n",
       "<style scoped>\n",
       "    .dataframe tbody tr th:only-of-type {\n",
       "        vertical-align: middle;\n",
       "    }\n",
       "\n",
       "    .dataframe tbody tr th {\n",
       "        vertical-align: top;\n",
       "    }\n",
       "\n",
       "    .dataframe thead tr th {\n",
       "        text-align: left;\n",
       "    }\n",
       "\n",
       "    .dataframe thead tr:last-of-type th {\n",
       "        text-align: right;\n",
       "    }\n",
       "</style>\n",
       "<table border=\"1\" class=\"dataframe\">\n",
       "  <thead>\n",
       "    <tr>\n",
       "      <th></th>\n",
       "      <th colspan=\"4\" halign=\"left\">pontuacao_credito</th>\n",
       "    </tr>\n",
       "    <tr>\n",
       "      <th></th>\n",
       "      <th>mode</th>\n",
       "      <th>median</th>\n",
       "      <th>mean</th>\n",
       "      <th>std</th>\n",
       "    </tr>\n",
       "    <tr>\n",
       "      <th>estado_residencia</th>\n",
       "      <th></th>\n",
       "      <th></th>\n",
       "      <th></th>\n",
       "      <th></th>\n",
       "    </tr>\n",
       "  </thead>\n",
       "  <tbody>\n",
       "    <tr>\n",
       "      <th>PR</th>\n",
       "      <td>([850], [47])</td>\n",
       "      <td>650.0</td>\n",
       "      <td>648.961294</td>\n",
       "      <td>98.607186</td>\n",
       "    </tr>\n",
       "    <tr>\n",
       "      <th>RS</th>\n",
       "      <td>([850], [42])</td>\n",
       "      <td>650.0</td>\n",
       "      <td>651.105143</td>\n",
       "      <td>95.136598</td>\n",
       "    </tr>\n",
       "    <tr>\n",
       "      <th>SC</th>\n",
       "      <td>([850], [78])</td>\n",
       "      <td>653.0</td>\n",
       "      <td>649.537653</td>\n",
       "      <td>97.233493</td>\n",
       "    </tr>\n",
       "  </tbody>\n",
       "</table>\n",
       "</div>"
      ],
      "text/plain": [
       "                  pontuacao_credito                              \n",
       "                               mode median        mean        std\n",
       "estado_residencia                                                \n",
       "PR                    ([850], [47])  650.0  648.961294  98.607186\n",
       "RS                    ([850], [42])  650.0  651.105143  95.136598\n",
       "SC                    ([850], [78])  653.0  649.537653  97.233493"
      ]
     },
     "execution_count": 68,
     "metadata": {},
     "output_type": "execute_result"
    }
   ],
   "source": [
    "df = credit_scores[[\"pontuacao_credito\", \"estado_residencia\"]]\n",
    "\n",
    "df.groupby(by=\"estado_residencia\").agg({\"pontuacao_credito\": [stats.mode, np.median, np.mean, np.std]})\n"
   ]
  },
  {
   "cell_type": "code",
   "execution_count": 67,
   "metadata": {},
   "outputs": [
    {
     "data": {
      "text/html": [
       "<div>\n",
       "<style scoped>\n",
       "    .dataframe tbody tr th:only-of-type {\n",
       "        vertical-align: middle;\n",
       "    }\n",
       "\n",
       "    .dataframe tbody tr th {\n",
       "        vertical-align: top;\n",
       "    }\n",
       "\n",
       "    .dataframe thead tr th {\n",
       "        text-align: left;\n",
       "    }\n",
       "\n",
       "    .dataframe thead tr:last-of-type th {\n",
       "        text-align: right;\n",
       "    }\n",
       "</style>\n",
       "<table border=\"1\" class=\"dataframe\">\n",
       "  <thead>\n",
       "    <tr>\n",
       "      <th></th>\n",
       "      <th colspan=\"8\" halign=\"left\">pontuacao_credito</th>\n",
       "    </tr>\n",
       "    <tr>\n",
       "      <th></th>\n",
       "      <th>count</th>\n",
       "      <th>mean</th>\n",
       "      <th>std</th>\n",
       "      <th>min</th>\n",
       "      <th>25%</th>\n",
       "      <th>50%</th>\n",
       "      <th>75%</th>\n",
       "      <th>max</th>\n",
       "    </tr>\n",
       "    <tr>\n",
       "      <th>estado_residencia</th>\n",
       "      <th></th>\n",
       "      <th></th>\n",
       "      <th></th>\n",
       "      <th></th>\n",
       "      <th></th>\n",
       "      <th></th>\n",
       "      <th></th>\n",
       "      <th></th>\n",
       "    </tr>\n",
       "  </thead>\n",
       "  <tbody>\n",
       "    <tr>\n",
       "      <th>PR</th>\n",
       "      <td>1731.0</td>\n",
       "      <td>648.961294</td>\n",
       "      <td>98.607186</td>\n",
       "      <td>350.0</td>\n",
       "      <td>581.0</td>\n",
       "      <td>650.0</td>\n",
       "      <td>719.5</td>\n",
       "      <td>850.0</td>\n",
       "    </tr>\n",
       "    <tr>\n",
       "      <th>RS</th>\n",
       "      <td>1750.0</td>\n",
       "      <td>651.105143</td>\n",
       "      <td>95.136598</td>\n",
       "      <td>350.0</td>\n",
       "      <td>585.0</td>\n",
       "      <td>650.0</td>\n",
       "      <td>717.0</td>\n",
       "      <td>850.0</td>\n",
       "    </tr>\n",
       "    <tr>\n",
       "      <th>SC</th>\n",
       "      <td>3519.0</td>\n",
       "      <td>649.537653</td>\n",
       "      <td>97.233493</td>\n",
       "      <td>359.0</td>\n",
       "      <td>581.0</td>\n",
       "      <td>653.0</td>\n",
       "      <td>717.0</td>\n",
       "      <td>850.0</td>\n",
       "    </tr>\n",
       "  </tbody>\n",
       "</table>\n",
       "</div>"
      ],
      "text/plain": [
       "                  pontuacao_credito                                       \\\n",
       "                              count        mean        std    min    25%   \n",
       "estado_residencia                                                          \n",
       "PR                           1731.0  648.961294  98.607186  350.0  581.0   \n",
       "RS                           1750.0  651.105143  95.136598  350.0  585.0   \n",
       "SC                           3519.0  649.537653  97.233493  359.0  581.0   \n",
       "\n",
       "                                        \n",
       "                     50%    75%    max  \n",
       "estado_residencia                       \n",
       "PR                 650.0  719.5  850.0  \n",
       "RS                 650.0  717.0  850.0  \n",
       "SC                 653.0  717.0  850.0  "
      ]
     },
     "execution_count": 67,
     "metadata": {},
     "output_type": "execute_result"
    }
   ],
   "source": [
    "df.groupby(by=\"estado_residencia\").describe()"
   ]
  }
 ],
 "metadata": {
  "interpreter": {
   "hash": "3913354c9e31cf5266291bd2ee93c11c6fecf1d74fca2b78dfa97ce019c2a609"
  },
  "kernelspec": {
   "display_name": "Python 3.9.7 64-bit ('aceleradev_ds': conda)",
   "language": "python",
   "name": "python3"
  },
  "language_info": {
   "codemirror_mode": {
    "name": "ipython",
    "version": 3
   },
   "file_extension": ".py",
   "mimetype": "text/x-python",
   "name": "python",
   "nbconvert_exporter": "python",
   "pygments_lexer": "ipython3",
   "version": "3.9.7"
  },
  "orig_nbformat": 4
 },
 "nbformat": 4,
 "nbformat_minor": 2
}
