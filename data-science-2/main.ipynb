{
 "cells": [
  {
   "cell_type": "markdown",
   "metadata": {},
   "source": [
    "# Desafio 4\n",
    "\n",
    "Neste desafio, vamos praticar um pouco sobre testes de hipóteses. Utilizaremos o _data set_ [2016 Olympics in Rio de Janeiro](https://www.kaggle.com/rio2016/olympic-games/), que contém dados sobre os atletas das Olimpíadas de 2016 no Rio de Janeiro.\n",
    "\n",
    "Esse _data set_ conta com informações gerais sobre 11538 atletas como nome, nacionalidade, altura, peso e esporte praticado. Estaremos especialmente interessados nas variáveis numéricas altura (`height`) e peso (`weight`). As análises feitas aqui são parte de uma Análise Exploratória de Dados (EDA).\n",
    "\n",
    "> Obs.: Por favor, não modifique o nome das funções de resposta."
   ]
  },
  {
   "cell_type": "markdown",
   "metadata": {},
   "source": [
    "## _Setup_ geral"
   ]
  },
  {
   "cell_type": "code",
   "execution_count": 2,
   "metadata": {},
   "outputs": [],
   "source": [
    "import pandas as pd\n",
    "import matplotlib.pyplot as plt\n",
    "import numpy as np\n",
    "import scipy.stats as sct\n",
    "import seaborn as sns"
   ]
  },
  {
   "cell_type": "code",
   "execution_count": 2,
   "metadata": {},
   "outputs": [],
   "source": [
    "# %matplotlib inline\n",
    "\n",
    "# from IPython.core.pylabtools import figsize\n",
    "\n",
    "\n",
    "# figsize(12, 8)\n",
    "\n",
    "# sns.set()"
   ]
  },
  {
   "cell_type": "code",
   "execution_count": 67,
   "metadata": {},
   "outputs": [
    {
     "name": "stdout",
     "output_type": "stream",
     "text": [
      "<class 'pandas.core.frame.DataFrame'>\n",
      "RangeIndex: 11538 entries, 0 to 11537\n",
      "Data columns (total 11 columns):\n",
      " #   Column       Non-Null Count  Dtype  \n",
      "---  ------       --------------  -----  \n",
      " 0   id           11538 non-null  int64  \n",
      " 1   name         11538 non-null  object \n",
      " 2   nationality  11538 non-null  object \n",
      " 3   sex          11538 non-null  object \n",
      " 4   dob          11537 non-null  object \n",
      " 5   height       11208 non-null  float64\n",
      " 6   weight       10879 non-null  float64\n",
      " 7   sport        11538 non-null  object \n",
      " 8   gold         11538 non-null  int64  \n",
      " 9   silver       11538 non-null  int64  \n",
      " 10  bronze       11538 non-null  int64  \n",
      "dtypes: float64(2), int64(4), object(5)\n",
      "memory usage: 991.7+ KB\n"
     ]
    }
   ],
   "source": [
    "athletes = pd.read_csv(\"athletes.csv\")\n",
    "\n",
    "athletes.info()"
   ]
  },
  {
   "cell_type": "code",
   "execution_count": 4,
   "metadata": {},
   "outputs": [],
   "source": [
    "def get_sample(df, col_name, n=100, seed=42):\n",
    "    \"\"\"Get a sample from a column of a dataframe.\n",
    "    \n",
    "    It drops any numpy.nan entries before sampling. The sampling\n",
    "    is performed without replacement.\n",
    "    \n",
    "    Example of numpydoc for those who haven't seen yet.\n",
    "    \n",
    "    Parameters\n",
    "    ----------\n",
    "    df : pandas.DataFrame\n",
    "        Source dataframe.\n",
    "    col_name : str\n",
    "        Name of the column to be sampled.\n",
    "    n : int\n",
    "        Sample size. Default is 100.\n",
    "    seed : int\n",
    "        Random seed. Default is 42.\n",
    "    \n",
    "    Returns\n",
    "    -------\n",
    "    pandas.Series\n",
    "        Sample of size n from dataframe's column.\n",
    "    \"\"\"\n",
    "    np.random.seed(seed)\n",
    "    \n",
    "    random_idx = np.random.choice(df[col_name].dropna().index, size=n, replace=False)\n",
    "    \n",
    "    return df.loc[random_idx, col_name]"
   ]
  },
  {
   "cell_type": "markdown",
   "metadata": {},
   "source": [
    "## Inicia sua análise a partir daqui"
   ]
  },
  {
   "cell_type": "code",
   "execution_count": 5,
   "metadata": {},
   "outputs": [
    {
     "data": {
      "text/plain": [
       "2162      80.0\n",
       "3450      70.0\n",
       "6886      69.0\n",
       "3871      66.0\n",
       "6383      82.0\n",
       "         ...  \n",
       "5483      95.0\n",
       "9943      60.0\n",
       "347       76.0\n",
       "2783      89.0\n",
       "10573    100.0\n",
       "Name: weight, Length: 100, dtype: float64"
      ]
     },
     "execution_count": 5,
     "metadata": {},
     "output_type": "execute_result"
    }
   ],
   "source": [
    "# Sua análise começa aqui.\n",
    "\n",
    "get_sample(athletes, 'weight')"
   ]
  },
  {
   "cell_type": "markdown",
   "metadata": {},
   "source": [
    "## Questão 1\n",
    "\n",
    "Considerando uma amostra de tamanho 3000 da coluna `height` obtida com a função `get_sample()`, execute o teste de normalidade de Shapiro-Wilk com a função `scipy.stats.shapiro()`. Podemos afirmar que as alturas são normalmente distribuídas com base nesse teste (ao nível de significância de 5%)? Responda com um boolean (`True` ou `False`)."
   ]
  },
  {
   "cell_type": "code",
   "execution_count": 50,
   "metadata": {},
   "outputs": [
    {
     "name": "stdout",
     "output_type": "stream",
     "text": [
      "0.99615 5.681722541339695e-07\n",
      "count    3000.000000\n",
      "mean        1.766780\n",
      "std         0.112402\n",
      "min         1.330000\n",
      "25%         1.690000\n",
      "50%         1.760000\n",
      "75%         1.840000\n",
      "max         2.150000\n",
      "Name: height, dtype: float64\n",
      "Answer => False\n"
     ]
    },
    {
     "data": {
      "image/png": "[encoded data removed]",
      "text/plain": [
       "<Figure size 360x360 with 1 Axes>"
      ]
     },
     "metadata": {
      "needs_background": "light"
     },
     "output_type": "display_data"
    }
   ],
   "source": [
    "def q1():\n",
    "    sample = get_sample(athletes, 'height', n=3000)\n",
    "    sns.displot(sample, bins=50)\n",
    "    statistic, pvalue = sct.shapiro(sample)\n",
    "    print(round(statistic, 5), pvalue)\n",
    "    print(sample.describe())\n",
    "    return pvalue > 0.05\n",
    "\n",
    "\n",
    "print('Answer =>', q1())"
   ]
  },
  {
   "cell_type": "markdown",
   "metadata": {},
   "source": [
    "__Para refletir__:\n",
    "\n",
    "* Plote o histograma dessa variável (com, por exemplo, `bins=25`). A forma do gráfico e o resultado do teste são condizentes? Por que?\n",
    "* Plote o qq-plot para essa variável e a analise.\n",
    "* Existe algum nível de significância razoável que nos dê outro resultado no teste? (Não faça isso na prática. Isso é chamado _p-value hacking_, e não é legal)."
   ]
  },
  {
   "cell_type": "markdown",
   "metadata": {},
   "source": [
    "## Questão 2\n",
    "\n",
    "Repita o mesmo procedimento acima, mas agora utilizando o teste de normalidade de Jarque-Bera através da função `scipy.stats.jarque_bera()`. Agora podemos afirmar que as alturas são normalmente distribuídas (ao nível de significância de 5%)? Responda com um boolean (`True` ou `False`)."
   ]
  },
  {
   "cell_type": "code",
   "execution_count": 51,
   "metadata": {},
   "outputs": [
    {
     "name": "stdout",
     "output_type": "stream",
     "text": [
      "13.03364 0.001478366424594868\n",
      "count    3000.000000\n",
      "mean        1.766780\n",
      "std         0.112402\n",
      "min         1.330000\n",
      "25%         1.690000\n",
      "50%         1.760000\n",
      "75%         1.840000\n",
      "max         2.150000\n",
      "Name: height, dtype: float64\n",
      "Answer => False\n"
     ]
    },
    {
     "data": {
      "image/png": "[encoded data removed]",
      "text/plain": [
       "<Figure size 360x360 with 1 Axes>"
      ]
     },
     "metadata": {
      "needs_background": "light"
     },
     "output_type": "display_data"
    }
   ],
   "source": [
    "def q2():\n",
    "    sample = get_sample(athletes, 'height', n=3000)\n",
    "    sns.displot(sample, bins=50)\n",
    "    statistic, pvalue = sct.jarque_bera(sample)\n",
    "    print(round(statistic, 5), pvalue)\n",
    "    print(sample.describe())\n",
    "    return pvalue > 0.05\n",
    "\n",
    "print('Answer =>', q2())"
   ]
  },
  {
   "cell_type": "markdown",
   "metadata": {},
   "source": [
    "__Para refletir__:\n",
    "\n",
    "* Esse resultado faz sentido?"
   ]
  },
  {
   "cell_type": "markdown",
   "metadata": {},
   "source": [
    "## Questão 3\n",
    "\n",
    "Considerando agora uma amostra de tamanho 3000 da coluna `weight` obtida com a função `get_sample()`. Faça o teste de normalidade de D'Agostino-Pearson utilizando a função `scipy.stats.normaltest()`. Podemos afirmar que os pesos vêm de uma distribuição normal ao nível de significância de 5%? Responda com um boolean (`True` ou `False`)."
   ]
  },
  {
   "cell_type": "code",
   "execution_count": 66,
   "metadata": {},
   "outputs": [
    {
     "name": "stdout",
     "output_type": "stream",
     "text": [
      "510.24655809881176 1.5898922918029537e-111\n",
      "count    3000.000000\n",
      "mean       72.122667\n",
      "std        16.366742\n",
      "min        37.000000\n",
      "25%        60.000000\n",
      "50%        70.000000\n",
      "75%        81.000000\n",
      "max       160.000000\n",
      "Name: weight, dtype: float64\n",
      "Answer => False\n"
     ]
    },
    {
     "data": {
      "image/png": "[encoded data removed]",
      "text/plain": [
       "<Figure size 432x288 with 1 Axes>"
      ]
     },
     "metadata": {
      "needs_background": "light"
     },
     "output_type": "display_data"
    }
   ],
   "source": [
    "q3_sample = get_sample(athletes, 'weight', n=3000)\n",
    "\n",
    "def q3():\n",
    "    sns.histplot(q3_sample, bins=50)\n",
    "    # sns.boxplot(q3_sample)\n",
    "    statistic, pvalue = sct.normaltest(q3_sample)\n",
    "    print(statistic, pvalue)\n",
    "    print(q3_sample.describe())\n",
    "    return pvalue > 0.05\n",
    "\n",
    "print('Answer =>', q3())"
   ]
  },
  {
   "cell_type": "markdown",
   "metadata": {},
   "source": [
    "__Para refletir__:\n",
    "\n",
    "* Plote o histograma dessa variável (com, por exemplo, `bins=25`). A forma do gráfico e o resultado do teste são condizentes? Por que?\n",
    "* Um _box plot_ também poderia ajudar a entender a resposta."
   ]
  },
  {
   "cell_type": "markdown",
   "metadata": {},
   "source": [
    "## Questão 4\n",
    "\n",
    "Realize uma transformação logarítmica em na amostra de `weight` da questão 3 e repita o mesmo procedimento. Podemos afirmar a normalidade da variável transformada ao nível de significância de 5%? Responda com um boolean (`True` ou `False`)."
   ]
  },
  {
   "cell_type": "code",
   "execution_count": 53,
   "metadata": {},
   "outputs": [
    {
     "name": "stdout",
     "output_type": "stream",
     "text": [
      "45.91534331977353 1.0705572101256944e-10\n",
      "count    3000.000000\n",
      "mean        4.254357\n",
      "std         0.216761\n",
      "min         3.610918\n",
      "25%         4.094345\n",
      "50%         4.248495\n",
      "75%         4.394449\n",
      "max         5.075174\n",
      "Name: weight, dtype: float64\n",
      "Answer => False\n"
     ]
    },
    {
     "data": {
      "image/png": "[encoded data removed]",
      "text/plain": [
       "<Figure size 432x288 with 1 Axes>"
      ]
     },
     "metadata": {
      "needs_background": "light"
     },
     "output_type": "display_data"
    },
    {
     "data": {
      "image/png": "[encoded data removed]",
      "text/plain": [
       "<Figure size 360x360 with 1 Axes>"
      ]
     },
     "metadata": {
      "needs_background": "light"
     },
     "output_type": "display_data"
    }
   ],
   "source": [
    "def q4():\n",
    "    adjust_log_sample = q3_sample.apply(np.log)\n",
    "    sns.histplot(data=adjust_log_sample, bins=25).set(xlabel='log adjusted weight sample')\n",
    "    sns.displot(q3_sample, bins=25).set(xlabel='original weight sample')\n",
    "    statistic, pvalue = sct.normaltest(adjust_log_sample)\n",
    "    print(statistic, pvalue)\n",
    "    print(adjust_log_sample.describe())\n",
    "    return pvalue > 0.05\n",
    "\n",
    "print('Answer =>', q4())"
   ]
  },
  {
   "cell_type": "markdown",
   "metadata": {},
   "source": [
    "__Para refletir__:\n",
    "\n",
    "* Plote o histograma dessa variável (com, por exemplo, `bins=25`). A forma do gráfico e o resultado do teste são condizentes? Por que?\n",
    "* Você esperava um resultado diferente agora?"
   ]
  },
  {
   "cell_type": "markdown",
   "metadata": {},
   "source": [
    "> __Para as questão 5 6 e 7 a seguir considere todos testes efetuados ao nível de significância de 5%__."
   ]
  },
  {
   "cell_type": "markdown",
   "metadata": {},
   "source": [
    "## Questão 5\n",
    "\n",
    "Obtenha todos atletas brasileiros, norte-americanos e canadenses em `DataFrame`s chamados `bra`, `usa` e `can`,respectivamente. Realize um teste de hipóteses para comparação das médias das alturas (`height`) para amostras independentes e variâncias diferentes com a função `scipy.stats.ttest_ind()` entre `bra` e `usa`. Podemos afirmar que as médias são estatisticamente iguais? Responda com um boolean (`True` ou `False`)."
   ]
  },
  {
   "cell_type": "code",
   "execution_count": 72,
   "metadata": {},
   "outputs": [
    {
     "name": "stdout",
     "output_type": "stream",
     "text": [
      "1.764033613445379 1.7877678571428557 1.7585937500000004\n",
      "-3.2197616412698205 0.0013229277795920673\n",
      "Answer => False\n"
     ]
    }
   ],
   "source": [
    "def q5():\n",
    "    bra = athletes[athletes['nationality'] == 'BRA']\n",
    "    usa = athletes[athletes['nationality'] == 'USA']\n",
    "    can = athletes[athletes['nationality'] == 'CAN']\n",
    "    bra_avg_height = bra['height'].mean()\n",
    "    usa_avg_height = usa['height'].mean()\n",
    "    can_avg_height = can['height'].mean()\n",
    "    print(bra_avg_height, usa_avg_height, can_avg_height)\n",
    "    statistic, pvalue = sct.ttest_ind(bra['height'], usa['height'], nan_policy='omit')\n",
    "    print(statistic, pvalue)\n",
    "    return pvalue > 0.05\n",
    "\n",
    "print('Answer =>',q5())"
   ]
  },
  {
   "cell_type": "markdown",
   "metadata": {},
   "source": [
    "## Questão 6\n",
    "\n",
    "Repita o procedimento da questão 5, mas agora entre as alturas de `bra` e `can`. Podemos afimar agora que as médias são estatisticamente iguais? Reponda com um boolean (`True` ou `False`)."
   ]
  },
  {
   "cell_type": "code",
   "execution_count": 73,
   "metadata": {},
   "outputs": [
    {
     "name": "stdout",
     "output_type": "stream",
     "text": [
      "1.764033613445379 1.7877678571428557 1.7585937500000004\n",
      "0.6396212192621117 0.5226033826111448\n",
      "Answer => True\n"
     ]
    }
   ],
   "source": [
    "def q6():\n",
    "    bra = athletes[athletes['nationality'] == 'BRA']\n",
    "    usa = athletes[athletes['nationality'] == 'USA']\n",
    "    can = athletes[athletes['nationality'] == 'CAN']\n",
    "    bra_avg_height = bra['height'].mean()\n",
    "    usa_avg_height = usa['height'].mean()\n",
    "    can_avg_height = can['height'].mean()\n",
    "    print(bra_avg_height, usa_avg_height, can_avg_height)\n",
    "    statistic, pvalue = sct.ttest_ind(bra['height'], can['height'], nan_policy='omit')\n",
    "    print(statistic, pvalue)\n",
    "    return pvalue > 0.05\n",
    "\n",
    "print('Answer =>', q6())"
   ]
  },
  {
   "cell_type": "markdown",
   "metadata": {},
   "source": [
    "## Questão 7\n",
    "\n",
    "Repita o procedimento da questão 6, mas agora entre as alturas de `usa` e `can`. Qual o valor do p-valor retornado? Responda como um único escalar arredondado para oito casas decimais."
   ]
  },
  {
   "cell_type": "code",
   "execution_count": 79,
   "metadata": {},
   "outputs": [
    {
     "name": "stdout",
     "output_type": "stream",
     "text": [
      "1.764033613445379 1.7877678571428557 1.7585937500000004\n",
      "3.5094939427693164 0.0004717857152394269\n",
      "Answer => 0.00047179\n"
     ]
    }
   ],
   "source": [
    "def q7():\n",
    "    bra = athletes[athletes['nationality'] == 'BRA']\n",
    "    usa = athletes[athletes['nationality'] == 'USA']\n",
    "    can = athletes[athletes['nationality'] == 'CAN']\n",
    "    bra_avg_height = bra['height'].mean()\n",
    "    usa_avg_height = usa['height'].mean()\n",
    "    can_avg_height = can['height'].mean()\n",
    "    print(bra_avg_height, usa_avg_height, can_avg_height)\n",
    "    statistic, pvalue = sct.ttest_ind(usa['height'], can['height'], nan_policy='omit')\n",
    "    print(statistic, pvalue)\n",
    "    return round(pvalue, 8)\n",
    "\n",
    "print('Answer =>', q7())"
   ]
  },
  {
   "cell_type": "markdown",
   "metadata": {},
   "source": [
    "__Para refletir__:\n",
    "\n",
    "* O resultado faz sentido?\n",
    "* Você consegue interpretar esse p-valor?\n",
    "* Você consegue chegar a esse valor de p-valor a partir da variável de estatística?"
   ]
  }
 ],
 "metadata": {
  "kernelspec": {
   "display_name": "Python 3",
   "language": "python",
   "name": "python3"
  },
  "language_info": {
   "codemirror_mode": {
    "name": "ipython",
    "version": 3
   },
   "file_extension": ".py",
   "mimetype": "text/x-python",
   "name": "python",
   "nbconvert_exporter": "python",
   "pygments_lexer": "ipython3",
   "version": "3.9.7"
  }
 },
 "nbformat": 4,
 "nbformat_minor": 2
}
